{
  "nbformat": 4,
  "nbformat_minor": 0,
  "metadata": {
    "colab": {
      "name": "Semana7-COM200",
      "provenance": [],
      "authorship_tag": "ABX9TyPArB0B7BuW97QClAhOW2mJ",
      "include_colab_link": true
    },
    "kernelspec": {
      "name": "python3",
      "display_name": "Python 3"
    },
    "language_info": {
      "name": "python"
    }
  },
  "cells": [
    {
      "cell_type": "markdown",
      "metadata": {
        "id": "view-in-github",
        "colab_type": "text"
      },
      "source": [
        "<a href=\"https://colab.research.google.com/github/isachristine/Python-Univesp/blob/master/Semana7_COM200.ipynb\" target=\"_parent\"><img src=\"https://colab.research.google.com/assets/colab-badge.svg\" alt=\"Open In Colab\"/></a>"
      ]
    },
    {
      "cell_type": "code",
      "metadata": {
        "colab": {
          "base_uri": "https://localhost:8080/"
        },
        "id": "nu1dlRWKeCw8",
        "outputId": "e38ed5f9-10ea-4d42-89b5-58c23bdd78af"
      },
      "source": [
        "!pip install arrow\n"
      ],
      "execution_count": 2,
      "outputs": [
        {
          "output_type": "stream",
          "text": [
            "Collecting arrow\n",
            "\u001b[?25l  Downloading https://files.pythonhosted.org/packages/ea/22/482a480cbee1aa7795a58b411159a4df249d6d4ceacdd9987ab946f78210/arrow-1.0.3-py3-none-any.whl (54kB)\n",
            "\r\u001b[K     |██████                          | 10kB 15.0MB/s eta 0:00:01\r\u001b[K     |████████████                    | 20kB 20.9MB/s eta 0:00:01\r\u001b[K     |██████████████████              | 30kB 11.0MB/s eta 0:00:01\r\u001b[K     |████████████████████████▏       | 40kB 8.8MB/s eta 0:00:01\r\u001b[K     |██████████████████████████████▏ | 51kB 8.2MB/s eta 0:00:01\r\u001b[K     |████████████████████████████████| 61kB 4.1MB/s \n",
            "\u001b[?25hRequirement already satisfied: python-dateutil>=2.7.0 in /usr/local/lib/python3.7/dist-packages (from arrow) (2.8.1)\n",
            "Requirement already satisfied: typing-extensions; python_version < \"3.8\" in /usr/local/lib/python3.7/dist-packages (from arrow) (3.7.4.3)\n",
            "Requirement already satisfied: six>=1.5 in /usr/local/lib/python3.7/dist-packages (from python-dateutil>=2.7.0->arrow) (1.15.0)\n",
            "Installing collected packages: arrow\n",
            "Successfully installed arrow-1.0.3\n"
          ],
          "name": "stdout"
        }
      ]
    },
    {
      "cell_type": "code",
      "metadata": {
        "id": "RDdGExvYeXVi"
      },
      "source": [
        "# Lendo as bibliotecas\n",
        "from oauthlib.oauth2 import BackendApplicationClient\n",
        "# estrutura que busca facilitar o fornecimento de autenticação\n",
        "# estrutura que implementa a lógica do OAuht 1 e 2, sem assumir um objeto de \n",
        "# solicitação http específico, ou uma estrutura da web\n",
        "from requests_oauthlib import OAuth2Session\n",
        "import numpy as np # padrao universal para trabalhar com dados em Python\n",
        "import pandas as pd # analise de dados\n",
        "import arrow\n",
        "from pandas import json_normalize\n",
        "import json\n",
        "import glob\n",
        "import matplotlib.pyplot as plt\n"
      ],
      "execution_count": 3,
      "outputs": []
    }
  ]
}