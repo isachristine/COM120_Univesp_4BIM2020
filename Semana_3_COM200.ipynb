{
  "nbformat": 4,
  "nbformat_minor": 0,
  "metadata": {
    "colab": {
      "name": "Semana 3 - COM200",
      "provenance": [],
      "authorship_tag": "ABX9TyORBRTdxjGZS094SoZvg2oB",
      "include_colab_link": true
    },
    "kernelspec": {
      "name": "python3",
      "display_name": "Python 3"
    }
  },
  "cells": [
    {
      "cell_type": "markdown",
      "metadata": {
        "id": "view-in-github",
        "colab_type": "text"
      },
      "source": [
        "<a href=\"https://colab.research.google.com/github/isachristine/Python-Univesp/blob/master/Semana_3_COM200.ipynb\" target=\"_parent\"><img src=\"https://colab.research.google.com/assets/colab-badge.svg\" alt=\"Open In Colab\"/></a>"
      ]
    },
    {
      "cell_type": "code",
      "metadata": {
        "colab": {
          "base_uri": "https://localhost:8080/"
        },
        "id": "bRD9cQjVJzis",
        "outputId": "130419b4-4855-4bbe-dae4-39d49a3d4881"
      },
      "source": [
        "cpf = []\r\n",
        "soma1 = 0\r\n",
        "soma2 = 0\r\n",
        "\r\n",
        "# O for abaixo vai pegar todos os dígitos do CPF e colocar em uma lista\r\n",
        "for i in range(1, 12, 1):\r\n",
        "    digito = int(input(f'Informe o {i} dígito do seu CPF: '))\r\n",
        "    cpf.append(digito)\r\n",
        "# print(cpf)\r\n",
        "\r\n",
        "# O for abaixo vai multiplicar cada dígito por sua posição, começando\r\n",
        "# em 1, até chegar nos dígitos verificadores, os quais não entram na conta. \r\n",
        "# Ao final apresentará a soma das multiplicações.\r\n",
        "for i in range(1, 10, 1):\r\n",
        "    soma_dig1 = cpf[i-1] * i \r\n",
        "    # print(soma_dig)\r\n",
        "    soma1 += soma_dig1\r\n",
        "# print(soma1)\r\n",
        "\r\n",
        "resto1 = (soma1 % 11)\r\n",
        "# print(verif_dig1)\r\n",
        "\r\n",
        "verif_dig1 = int(resto1 / 100)\r\n",
        "# print(unidade)\r\n",
        "\r\n",
        "# O for abaixo vai multiplicar cada dígito por sua posição, começando\r\n",
        "# em 0, até chegar nos dígitos verificadores, os quais não entram na conta. \r\n",
        "# Ao final apresentará a soma das multiplicações.\r\n",
        "for i in range(0, 9, 1):\r\n",
        "    soma_dig2 = cpf[i] * i \r\n",
        "    # print(soma_dig)\r\n",
        "    soma2 += soma_dig2\r\n",
        "#print(soma2)\r\n",
        "\r\n",
        "verif_dig2 = int(soma2 % 11)\r\n",
        "# print(verif_dig2)\r\n",
        "\r\n",
        "\r\n",
        "# A condicional abaixo vai testar os dígitos verificadores do CPF.\r\n",
        "# Se o primeiro dígito verificador for igual a unidade do resto da \r\n",
        "# primeira divisão E o segundo dígito verificador for igual ao resto\r\n",
        "# da segunda divisão, então o CPF é válido.\r\n",
        "if verif_dig1 == cpf[9] and verif_dig2 == cpf[10]:\r\n",
        "    print('CPF válido!')\r\n",
        "else:\r\n",
        "    print('CPF inválido.')"
      ],
      "execution_count": 36,
      "outputs": [
        {
          "output_type": "stream",
          "text": [
            "Informe o 1 dígito do seu CPF: 1\n",
            "Informe o 2 dígito do seu CPF: 2\n",
            "Informe o 3 dígito do seu CPF: 3\n",
            "Informe o 4 dígito do seu CPF: 4\n",
            "Informe o 5 dígito do seu CPF: 5\n",
            "Informe o 6 dígito do seu CPF: 6\n",
            "Informe o 7 dígito do seu CPF: 7\n",
            "Informe o 8 dígito do seu CPF: 8\n",
            "Informe o 9 dígito do seu CPF: 9\n",
            "Informe o 10 dígito do seu CPF: 0\n",
            "Informe o 11 dígito do seu CPF: 9\n",
            "CPF válido!\n"
          ],
          "name": "stdout"
        }
      ]
    }
  ]
}